{
 "cells": [
  {
   "cell_type": "code",
   "execution_count": 27,
   "metadata": {},
   "outputs": [
    {
     "name": "stdout",
     "output_type": "stream",
     "text": [
      "3375\n",
      "510\n",
      "132\n",
      "510\n",
      "506\n",
      "1007\n",
      "126\n",
      "373\n",
      "284\n",
      "760\n",
      "7583\n",
      "\n",
      "[[1.         0.47868585 0.45969194 0.48410946 0.55353313 0.56392168]\n",
      " [0.47868585 1.         0.34164067 0.22939093 0.37577637 0.43824547]\n",
      " [0.45969194 0.34164067 1.         0.18091394 0.29168667 0.34959097]\n",
      " [0.48410946 0.22939093 0.18091394 1.         0.500818   0.41300214]\n",
      " [0.55353313 0.37577637 0.29168667 0.500818   1.         0.56353631]\n",
      " [0.56392168 0.43824547 0.34959097 0.41300214 0.56353631 1.        ]]\n"
     ]
    }
   ],
   "source": [
    "import pandas as pd\n",
    "import numpy as np\n",
    "\n",
    "data1 = pd.read_csv(\"samsung.csv\")\n",
    "data2 = pd.read_csv(\"lge.csv\")\n",
    "data3 = pd.read_csv(\"kt&g.csv\")\n",
    "data4 = pd.read_csv(\"cj.csv\")\n",
    "data5 = pd.read_csv(\"naver.csv\")\n",
    "data6 = pd.read_csv(\"hyundai.csv\")\n",
    "data7 = pd.read_csv(\"sk_innovation.csv\")\n",
    "data8 = pd.read_csv(\"sktele.csv\")\n",
    "data9 = pd.read_csv(\"kakao.csv\")\n",
    "data10 = pd.read_csv(\"kepco.csv\")\n",
    "\n",
    "data = pd.concat([data1, data2, data3, data4, data5, data6, data7, data8, data9, data10], ignore_index = True)\n",
    "\n",
    "print(len(data1))\n",
    "print(len(data2))\n",
    "print(len(data3))\n",
    "print(len(data4))\n",
    "print(len(data5))\n",
    "print(len(data6))\n",
    "print(len(data7))\n",
    "print(len(data8))\n",
    "print(len(data9))\n",
    "print(len(data10))\n",
    "print(len(data))\n",
    "\n",
    "print()\n",
    "\n",
    "\n",
    "star = list()\n",
    "promotion = list()\n",
    "welfare = list()\n",
    "worklife = list()\n",
    "culture = list()\n",
    "ceo = list()\n",
    "\n",
    "for i in range(len(data)):\n",
    "    star.append(data.loc[i]['star'])\n",
    "    promotion.append(data.loc[i]['promotion'])\n",
    "    welfare.append(data.loc[i]['welfare'])\n",
    "    worklife.append(data.loc[i]['worklife'])\n",
    "    culture.append(data.loc[i]['culture'])\n",
    "    ceo.append(data.loc[i]['ceo'])\n",
    "   \n",
    "# correlation coefficient of each elements \n",
    "print(np.corrcoef([star, promotion, welfare, worklife, culture, ceo]))"
   ]
  }
 ],
 "metadata": {
  "kernelspec": {
   "display_name": "Python 3",
   "language": "python",
   "name": "python3"
  },
  "language_info": {
   "codemirror_mode": {
    "name": "ipython",
    "version": 3
   },
   "file_extension": ".py",
   "mimetype": "text/x-python",
   "name": "python",
   "nbconvert_exporter": "python",
   "pygments_lexer": "ipython3",
   "version": "3.7.0"
  }
 },
 "nbformat": 4,
 "nbformat_minor": 2
}
